{
 "cells": [
  {
   "cell_type": "code",
   "execution_count": null,
   "metadata": {
    "colab": {},
    "colab_type": "code",
    "id": "L8e-Mu6-Cda3",
    "outputId": "57cc4f1e-51df-4911-924b-bff6482a2a5a"
   },
   "outputs": [],
   "source": [
    "import os\n",
    "import random\n",
    "import pandas as pd\n",
    "import numpy as np\n",
    "from shutil import copyfile\n",
    "\n",
    "data_dir='/data/stilo/catalog_full'\n",
    "print(len(os.listdir(data_dir+'/skirt/')))\n",
    "print(len(os.listdir(data_dir+'/jeans/')))\n",
    "print(len(os.listdir(data_dir+'/dress/')))"
   ]
  },
  {
   "cell_type": "code",
   "execution_count": null,
   "metadata": {
    "colab": {},
    "colab_type": "code",
    "id": "d6v18JXACda7"
   },
   "outputs": [],
   "source": [
    "print(os.listdir(data_dir))"
   ]
  },
  {
   "cell_type": "code",
   "execution_count": null,
   "metadata": {
    "colab": {},
    "colab_type": "code",
    "id": "gd2f33ebCda9"
   },
   "outputs": [],
   "source": [
    "classes=os.listdir(data_dir)"
   ]
  },
  {
   "cell_type": "code",
   "execution_count": null,
   "metadata": {
    "colab": {},
    "colab_type": "code",
    "id": "ZhYU1osCCda_"
   },
   "outputs": [],
   "source": [
    "classes.remove('stuff')"
   ]
  },
  {
   "cell_type": "code",
   "execution_count": null,
   "metadata": {
    "colab": {},
    "colab_type": "code",
    "id": "Ypjpe-ipCdbC",
    "outputId": "27c570f8-43ab-4c48-9636-45031f482d3e"
   },
   "outputs": [],
   "source": [
    "classes"
   ]
  },
  {
   "cell_type": "code",
   "execution_count": null,
   "metadata": {
    "colab": {},
    "colab_type": "code",
    "id": "p7T0sa1vCdbE",
    "outputId": "04ed8510-076d-45dc-bea6-70928f0b8101"
   },
   "outputs": [],
   "source": [
    "source_path=[f'/data/stilo/catalog_full/{a}' for a in classes]\n",
    "print(source_path)"
   ]
  },
  {
   "cell_type": "code",
   "execution_count": null,
   "metadata": {
    "colab": {},
    "colab_type": "code",
    "id": "WcyBla2YCdbG",
    "outputId": "313cb76b-2f65-4fee-ba5c-acd7ac60ca86"
   },
   "outputs": [],
   "source": [
    "classes_dir=[f'{a}_dir' for a in classes]\n",
    "classes_dir"
   ]
  },
  {
   "cell_type": "code",
   "execution_count": null,
   "metadata": {
    "colab": {},
    "colab_type": "code",
    "id": "3PVblz-aCdbI",
    "outputId": "36df2e9c-0e8d-4500-e270-284d7742f6cf"
   },
   "outputs": [],
   "source": [
    "for cl_dir,cl_path in zip(classes_dir,source_path):\n",
    "    print(cl_dir,': ',len(os.listdir(cl_path)))"
   ]
  },
  {
   "cell_type": "code",
   "execution_count": null,
   "metadata": {
    "colab": {},
    "colab_type": "code",
    "id": "_gqlTTMsCdbL",
    "outputId": "8a2b05f4-ff0d-4997-ef10-0228cc339eb3"
   },
   "outputs": [],
   "source": [
    "!pwd"
   ]
  },
  {
   "cell_type": "code",
   "execution_count": null,
   "metadata": {
    "colab": {},
    "colab_type": "code",
    "id": "fL-GaRqYCdbN"
   },
   "outputs": [],
   "source": [
    "try:\n",
    "    os.mkdir('/home/ach/stilo/training')\n",
    "    os.mkdir('/home/ach/stilo/validation')\n",
    "    os.mkdir('/home/ach/stilo/testing')\n",
    "except OSError:\n",
    "    pass"
   ]
  },
  {
   "cell_type": "code",
   "execution_count": null,
   "metadata": {
    "colab": {},
    "colab_type": "code",
    "id": "ikd6CBwyCdbP",
    "outputId": "3930fcde-8e65-4dae-e33b-74206651b6a2"
   },
   "outputs": [],
   "source": [
    "TRAINING_PATH='/home/ach/stilo/training'\n",
    "VALIDATION_PATH='/home/ach/stilo/validation'\n",
    "training_dir_path=[f'/home/ach/stilo/training/{a}' for a in classes]\n",
    "print('\\n',training_dir_path)\n",
    "validation_dir_path=[f'/home/ach/stilo/validation/{a}' for a in classes]\n",
    "print('\\n',validation_dir_path)\n",
    "testing_dir_path=[f'/home/ach/stilo/testing/{a}' for a in classes]\n",
    "print('\\n',testing_dir_path)"
   ]
  },
  {
   "cell_type": "code",
   "execution_count": null,
   "metadata": {
    "colab": {},
    "colab_type": "code",
    "id": "nHheaHCYCdbR"
   },
   "outputs": [],
   "source": [
    "for train_dir_path in training_dir_path:\n",
    "    try:\n",
    "        os.mkdir(train_dir_path)\n",
    "    except OSError:\n",
    "        pass"
   ]
  },
  {
   "cell_type": "code",
   "execution_count": null,
   "metadata": {
    "colab": {},
    "colab_type": "code",
    "id": "FzLp2JmYCdbT"
   },
   "outputs": [],
   "source": [
    "for val_dir_path in validation_dir_path:\n",
    "    try:\n",
    "        os.mkdir(val_dir_path)\n",
    "    except OSError:\n",
    "        pass"
   ]
  },
  {
   "cell_type": "code",
   "execution_count": null,
   "metadata": {
    "colab": {},
    "colab_type": "code",
    "id": "jxJ7IvbOCdbV"
   },
   "outputs": [],
   "source": [
    "for test_dir_path in testing_dir_path:\n",
    "    try:\n",
    "        os.mkdir(test_dir_path)\n",
    "    except OSError:\n",
    "        pass"
   ]
  },
  {
   "cell_type": "code",
   "execution_count": null,
   "metadata": {
    "colab": {},
    "colab_type": "code",
    "id": "x7T2T61MCdbX"
   },
   "outputs": [],
   "source": [
    "def split_data(SOURCE, TRAINING, VALIDATION, TESTING, SPLIT_SIZE):\n",
    "    files = []\n",
    "    print('Split Data')\n",
    "    for filename in os.listdir(SOURCE):\n",
    "        file = SOURCE +'/'+ filename\n",
    "        if os.path.getsize(file) > 0:\n",
    "            files.append(filename)\n",
    "        else:\n",
    "            print(filename + \" is zero length, so ignoring.\")\n",
    "\n",
    "    training_length = int( len(files)* SPLIT_SIZE)\n",
    "    validation_length = int(len(files) * 0.10)\n",
    "    testing_length = int(len(files) - training_length - validation_length)\n",
    "    \n",
    "    print('SOURCE: ',SOURCE, '\\n TRAINING', TRAINING, '\\n VALIDATION',VALIDATION, '\\n ',len(files))\n",
    "    print('training_length:',training_length)\n",
    "    print('validation_length:',validation_length)\n",
    "    print('testing_length:',testing_length)\n",
    "    \n",
    "    shuffled_set = random.sample(files, len(files))\n",
    "    training_set = shuffled_set[0:training_length]\n",
    "    validation_set = shuffled_set[training_length:(training_length+validation_length)]\n",
    "    testing_set=shuffled_set[:testing_length]\n",
    "\n",
    "    print(len(training_set))\n",
    "    print(len(validation_set))\n",
    "    print(len(testing_set))\n",
    "    \n",
    "    for filename in training_set:\n",
    "        this_file = SOURCE +'/'+ filename\n",
    "        destination = TRAINING +'/'+ filename\n",
    "        copyfile(this_file, destination)\n",
    "    \n",
    "\n",
    "    for filename in validation_set:\n",
    "        this_file = SOURCE +'/'+ filename\n",
    "        destination = VALIDATION+'/' + filename\n",
    "        copyfile(this_file, destination)\n",
    "        \n",
    "    for filename in validation_set:\n",
    "        this_file = SOURCE +'/'+ filename\n",
    "        destination = TESTING+'/' + filename\n",
    "        copyfile(this_file, destination)"
   ]
  },
  {
   "cell_type": "code",
   "execution_count": null,
   "metadata": {
    "colab": {},
    "colab_type": "code",
    "id": "vu8QdIFICdbZ",
    "outputId": "0bc09dbf-3032-4884-b472-6924850d5965"
   },
   "outputs": [],
   "source": [
    "split_size = .85\n",
    "for source,train_dir_path,val_dir_path,test_dir_path in zip(source_path,\\\n",
    "                                training_dir_path,validation_dir_path, testing_dir_path):\n",
    "    #print('source: ',source,'\\n', train_dir_path,'\\n',val_dir_path,'\\n')\n",
    "    split_data(source,train_dir_path,val_dir_path,test_dir_path, split_size)\n",
    "    print('Splitting \\n')"
   ]
  },
  {
   "cell_type": "code",
   "execution_count": null,
   "metadata": {
    "colab": {},
    "colab_type": "code",
    "id": "BvMsWiZNCdbb"
   },
   "outputs": [],
   "source": [
    "from sklearn.model_selection import train_test_split"
   ]
  },
  {
   "cell_type": "code",
   "execution_count": null,
   "metadata": {
    "colab": {},
    "colab_type": "code",
    "id": "L2JPohpvCdbd"
   },
   "outputs": [],
   "source": [
    "X_train, X_test, y_train, y_test = train_test_split(X, y, test_size=0.33)"
   ]
  },
  {
   "cell_type": "code",
   "execution_count": null,
   "metadata": {
    "colab": {},
    "colab_type": "code",
    "id": "1_6Vf5x5Cdbf"
   },
   "outputs": [],
   "source": [
    "try:\n",
    "    os.mkdir('/content/gdrive/My Drive/Colab Notebooks/data/stilo')\n",
    "    os.mkdir('/content/gdrive/My Drive/Colab Notebooks/data/stilo/training')\n",
    "    os.mkdir('/content/gdrive/My Drive/Colab Notebooks/data/stilo/validation')\n",
    "    os.mkdir('/content/gdrive/My Drive/Colab Notebooks/data/stilo/testing')\n",
    "    \n",
    "    os.mkdir('/content/gdrive/My Drive/Colab Notebooks/data/stilo/training/skirt')\n",
    "    os.mkdir('/content/gdrive/My Drive/Colab Notebooks/data/stilo/training/jeans')\n",
    "    os.mkdir('/content/gdrive/My Drive/Colab Notebooks/data/stilo/training/dress')\n",
    "    \n",
    "    os.mkdir('/content/gdrive/My Drive/Colab Notebooks/data/stilo/validation/skirt')\n",
    "    os.mkdir('/content/gdrive/My Drive/Colab Notebooks/data/stilo/validation/jeans')\n",
    "    os.mkdir('/content/gdrive/My Drive/Colab Notebooks/data/stilo/validation/dress')\n",
    "    \n",
    "    os.mkdir('/content/gdrive/My Drive/Colab Notebooks/data/stilo/testing/skirt')\n",
    "    os.mkdir('/content/gdrive/My Drive/Colab Notebooks/data/stilo/testing/jeans')\n",
    "    os.mkdir('/content/gdrive/My Drive/Colab Notebooks/data/stilo/testing/dress')\n",
    "\n",
    "except OSError:\n",
    "    pass"
   ]
  },
  {
   "cell_type": "code",
   "execution_count": null,
   "metadata": {},
   "outputs": [],
   "source": [
    "from keras import backend as K\n",
    "K.tensorflow_backend._get_available_gpus()"
   ]
  },
  {
   "cell_type": "code",
   "execution_count": 1,
   "metadata": {},
   "outputs": [
    {
     "name": "stdout",
     "output_type": "stream",
     "text": [
      "[name: \"/device:CPU:0\"\n",
      "device_type: \"CPU\"\n",
      "memory_limit: 268435456\n",
      "locality {\n",
      "}\n",
      "incarnation: 1883654230403622070\n",
      "]\n"
     ]
    }
   ],
   "source": [
    "from tensorflow.python.client import device_lib\n",
    "print(device_lib.list_local_devices())"
   ]
  },
  {
   "cell_type": "code",
   "execution_count": null,
   "metadata": {},
   "outputs": [],
   "source": []
  }
 ],
 "metadata": {
  "colab": {
   "name": "split_train_validation.ipynb",
   "provenance": []
  },
  "kernelspec": {
   "display_name": "Python 3",
   "language": "python",
   "name": "python3"
  },
  "language_info": {
   "codemirror_mode": {
    "name": "ipython",
    "version": 3
   },
   "file_extension": ".py",
   "mimetype": "text/x-python",
   "name": "python",
   "nbconvert_exporter": "python",
   "pygments_lexer": "ipython3",
   "version": "3.8.5"
  }
 },
 "nbformat": 4,
 "nbformat_minor": 1
}
